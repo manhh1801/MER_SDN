{
 "cells": [
  {
   "cell_type": "code",
   "execution_count": null,
   "id": "initial_id",
   "metadata": {
    "collapsed": true
   },
   "outputs": [],
   "source": [
    "from os import listdir, path\n",
    "from re import match"
   ]
  },
  {
   "cell_type": "code",
   "execution_count": null,
   "outputs": [],
   "source": [
    "def extract_NetworkGraph(\n",
    "    param_File\n",
    "):\n",
    "    NETWORKGRAPH_FILE = param_File\n",
    "    \n",
    "    Nodes = {}\n",
    "    Line = NETWORKGRAPH_FILE.readline()\n",
    "    while Line:\n",
    "        if Line.startswith(\"NODES\"): break;\n",
    "        Line = NETWORKGRAPH_FILE.readline()\n",
    "    Line = NETWORKGRAPH_FILE.readline()\n",
    "    while False if match(r\"^\\)\\s+$\", Line) else True:\n",
    "        Node = Line.strip().split(' ')[0]\n",
    "        Nodes[Node] = len(Nodes)\n",
    "        Line = NETWORKGRAPH_FILE.readline()\n",
    "    \n",
    "    Links = [[0] * len(Nodes)] * len(Nodes)\n",
    "    Line = NETWORKGRAPH_FILE.readline()\n",
    "    while Line:\n",
    "        if Line.startswith(\"LINKS\"): break;\n",
    "        Line = NETWORKGRAPH_FILE.readline()\n",
    "    Line = NETWORKGRAPH_FILE.readline()\n",
    "    while False if match(r\"^\\)\\s+$\", Line) else True:\n",
    "        _Splits = Line.strip().split(' ')\n",
    "        NodeID1 = Nodes[_Splits[2]]\n",
    "        NodeID2 = Nodes[_Splits[3]]\n",
    "        Bandwidth = float(_Splits[5])\n",
    "        try:\n",
    "            for _index in range(10, len(_Splits), 2): Bandwidth += float(_Splits[_index])\n",
    "        except: _\n",
    "        Links[NodeID1][NodeID2] = Bandwidth\n",
    "        Links[NodeID2][NodeID1] = Bandwidth\n",
    "        Line = NETWORKGRAPH_FILE.readline()\n",
    "\n",
    "    return Nodes, Links"
   ],
   "metadata": {
    "collapsed": false
   },
   "id": "14950c1942ba12cb"
  },
  {
   "cell_type": "code",
   "execution_count": null,
   "outputs": [],
   "source": [
    "def extract_Flows(\n",
    "    param_File,\n",
    "    param_Nodes\n",
    "):\n",
    "    FLOWS_FILE = param_File\n",
    "    Nodes = param_Nodes\n",
    "    \n",
    "    Flows = [[0] * len(Nodes)] * len(Nodes)\n",
    "    Line = FLOWS_FILE.readline()\n",
    "    while Line:\n",
    "        if Line.startswith(\"DEMANDS\"): break;\n",
    "        Line = FLOWS_FILE.readline()\n",
    "    Line = FLOWS_FILE.readline()\n",
    "    while False if match(r\"^\\)\\s+$\", Line) else True:\n",
    "        _Splits = Line.strip().split(' ')\n",
    "        SrcNodeID = Nodes[_Splits[2]]\n",
    "        DstNodeID = Nodes[_Splits[3]]\n",
    "        FlowRate = float(_Splits[5]) * float(_Splits[6])\n",
    "        Flows[SrcNodeID][DstNodeID] = FlowRate\n",
    "        Line = FLOWS_FILE.readline()\n",
    "    \n",
    "    return Flows"
   ],
   "metadata": {
    "collapsed": false
   },
   "id": "a12bea09e1e894c9"
  },
  {
   "cell_type": "code",
   "execution_count": null,
   "outputs": [],
   "source": [
    "for DataDir in listdir(\"../public/raw_data\"):\n",
    "    NETWORKGRAPH_FILE = open(path.join(\"../public/raw_data\", DataDir, \"network-graph.txt\"), 'r')\n",
    "    Nodes, Links = extract_NetworkGraph(NETWORKGRAPH_FILE)\n",
    "    \n",
    "    for FlowSet in listdir(path.join(\"../public/raw_data\", DataDir, \"Flows\")):\n",
    "        FLOWS_FILE = open(path.join(\"../public/raw_data\", DataDir, \"Flows\", FlowSet), 'r')\n",
    "        Flows = extract_Flows(FLOWS_FILE, Nodes)"
   ],
   "metadata": {
    "collapsed": false
   },
   "id": "63e012dfaa1b442"
  }
 ],
 "metadata": {
  "kernelspec": {
   "display_name": "Python 3",
   "language": "python",
   "name": "python3"
  },
  "language_info": {
   "codemirror_mode": {
    "name": "ipython",
    "version": 2
   },
   "file_extension": ".py",
   "mimetype": "text/x-python",
   "name": "python",
   "nbconvert_exporter": "python",
   "pygments_lexer": "ipython2",
   "version": "2.7.6"
  }
 },
 "nbformat": 4,
 "nbformat_minor": 5
}
