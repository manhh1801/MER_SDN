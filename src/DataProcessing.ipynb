{
 "cells": [
  {
   "cell_type": "code",
   "execution_count": null,
   "id": "initial_id",
   "metadata": {
    "collapsed": true
   },
   "outputs": [],
   "source": [
    "from os import listdir, path\n",
    "from re import match\n",
    "from csv import writer\n",
    "from Network import NetworkGraph, NetworkFlow\n",
    "from PathAssign import MEPT"
   ]
  },
  {
   "cell_type": "code",
   "execution_count": null,
   "outputs": [],
   "source": [
    "def extract_NetworkGraph(\n",
    "    param_File\n",
    "):\n",
    "    NetworkGraphFile = param_File\n",
    "    Graph = NetworkGraph()\n",
    "\n",
    "    Line = NetworkGraphFile.readline()\n",
    "    while Line:\n",
    "        if Line.startswith(\"NODES\"):\n",
    "            break\n",
    "        Line = NetworkGraphFile.readline()\n",
    "    Line = NetworkGraphFile.readline()\n",
    "    while False if match(r\"^\\)\\s+$\", Line) else True:\n",
    "        Node = Line.strip().split(' ')[0]\n",
    "        Graph.add_Node(Node)\n",
    "        Line = NetworkGraphFile.readline()\n",
    "\n",
    "    Line = NetworkGraphFile.readline()\n",
    "    while Line:\n",
    "        if Line.startswith(\"LINKS\"):\n",
    "            break\n",
    "        Line = NetworkGraphFile.readline()\n",
    "    Line = NetworkGraphFile.readline()\n",
    "    while False if match(r\"^\\)\\s+$\", Line) else True:\n",
    "        Splits = Line.strip().split(' ')\n",
    "        Node1, Node2 = Splits[2], Splits[3]\n",
    "        Bandwidth = float(Splits[5])\n",
    "        # try:\n",
    "        #     for _index in range(10, len(Splits), 2):\n",
    "        #         Bandwidth += float(Splits[_index])\n",
    "        # except:\n",
    "        #     pass\n",
    "        Graph.add_Link(Node1, Node2, Bandwidth)\n",
    "        Line = NetworkGraphFile.readline()\n",
    "\n",
    "    return Graph"
   ],
   "metadata": {
    "collapsed": false
   },
   "id": "11604ba1675e0eb4"
  },
  {
   "cell_type": "code",
   "execution_count": null,
   "outputs": [],
   "source": [
    "def extract_Flows(\n",
    "    param_File\n",
    "):\n",
    "    FlowsFile = param_File\n",
    "    Flows = []\n",
    "\n",
    "    Line = FlowsFile.readline()\n",
    "    while Line:\n",
    "        if Line.startswith(\"DEMANDS\"): break;\n",
    "        Line = FlowsFile.readline()\n",
    "    Line = FlowsFile.readline()\n",
    "    while False if match(r\"^\\)\\s+$\", Line) else True:\n",
    "        Splits = Line.strip().split(' ')\n",
    "        SrcNode, DstNode = Splits[2], Splits[3]\n",
    "        FlowRate = float(Splits[5]) * float(Splits[6])\n",
    "        Flow = NetworkFlow(SrcNode, DstNode, FlowRate)\n",
    "        Flows.append(Flow)\n",
    "        Line = FlowsFile.readline()\n",
    "\n",
    "    return Flows"
   ],
   "metadata": {
    "collapsed": false
   },
   "id": "85793e3f50784b92"
  },
  {
   "cell_type": "code",
   "execution_count": null,
   "outputs": [],
   "source": [
    "def find_UBoundaries(\n",
    "    param_NetworkGraph,\n",
    "    param_Flows,\n",
    "):\n",
    "    Graph = param_NetworkGraph\n",
    "    Flows = param_Flows\n",
    "    EE = 0\n",
    "    Umin = Umax = 0\n",
    "\n",
    "    for _index_Umin in range(1, 100, 1):\n",
    "        _Umin = _index_Umin * 0.01\n",
    "        for _index_Umax in range(100, _index_Umin, -1):\n",
    "            _Umax = _index_Umax * 0.01\n",
    "            MEPT(Graph, Flows, _Umin, _Umax)\n",
    "            Links = Graph.get_Links()\n",
    "            _numerator, _denominator = 0, len(Links)\n",
    "            for Link in Links.values():\n",
    "                State = Link[2]\n",
    "                if State is True:\n",
    "                    _numerator += 1\n",
    "            _EE = 1 - _numerator / _denominator\n",
    "            # print(f\"{round(_Umin, 2)} - {round(_Umax, 2)}: {_EE}\")\n",
    "            if _EE >= EE:\n",
    "                EE = _EE\n",
    "                Umin, Umax = _Umin, _Umax\n",
    "            Graph.reset_Network()\n",
    "\n",
    "    return Umin, Umax"
   ],
   "metadata": {
    "collapsed": false
   },
   "id": "7380fd8d620f6c30"
  },
  {
   "cell_type": "code",
   "execution_count": null,
   "outputs": [],
   "source": [
    "def write_CSV(\n",
    "    param_File,\n",
    "    param_Nodes,\n",
    "    param_Flows,\n",
    "    param_Umin,\n",
    "    param_Umax\n",
    "):\n",
    "    CSVFile = param_File\n",
    "    Nodes = param_Nodes\n",
    "    Flows = param_Flows\n",
    "    Umin, Umax = param_Umin, param_Umax\n",
    "    \n",
    "    CSVFile.truncate(0)\n",
    "    CSVWriter = writer(CSVFile)\n",
    "    \n",
    "    FlowData = []\n",
    "    _initialrow = [0] * len(Nodes)\n",
    "    for _index in range(len(Nodes)):\n",
    "        FlowData.append(_initialrow.copy())\n",
    "    for Flow in Flows:\n",
    "        _srcindex = _dstindex = 0\n",
    "        for _index in range(len(Nodes)):\n",
    "            if Flow.SRC_NODE == Nodes[_index]:\n",
    "                _srcindex = _index\n",
    "                continue\n",
    "            if Flow.DST_NODE == Nodes[_index]:\n",
    "                _dstindex = _index\n",
    "                continue\n",
    "            \n",
    "        FlowData[_srcindex][_dstindex] = Flow.FLOW_RATE\n",
    "    \n",
    "    CSVWriter.writerow([Umin, Umax])\n",
    "    CSVWriter.writerows(FlowData)"
   ],
   "metadata": {
    "collapsed": false
   },
   "id": "15196d116207b999"
  },
  {
   "cell_type": "code",
   "execution_count": null,
   "outputs": [],
   "source": [
    "NetworkGraphFile = open(\"../public/data/raw_data/network-graph.txt\", 'r')\n",
    "\n",
    "Graph = extract_NetworkGraph(NetworkGraphFile)\n",
    "Nodes = Graph.get_Nodes()\n",
    "\n",
    "_index = 1\n",
    "for FlowsFile in listdir(\"../public/data/raw_data/Flows\"):\n",
    "    FlowsFile = open(\"../public/data/raw_data/Flows/\" + FlowsFile, 'r')\n",
    "    Flows = extract_Flows(FlowsFile)\n",
    "    FlowsFile.close()\n",
    "    Umin, Umax = find_UBoundaries(Graph, Flows)\n",
    "    Graph.reset_Network()\n",
    "    print(f\"{Umin} - {Umax}\\n\")\n",
    "    CSVFile = open(path.join(\"../public/data/processed_data\", _index.__str__() + \".csv\"), 'w', newline = '')\n",
    "    write_CSV(CSVFile, Nodes, Flows, Umin, Umax)\n",
    "    CSVFile.close()\n",
    "    _index += 1\n",
    "    break\n",
    "\n",
    "NetworkGraphFile.close()"
   ],
   "metadata": {
    "collapsed": false
   },
   "id": "92c402d420175460"
  }
 ],
 "metadata": {
  "kernelspec": {
   "display_name": "Python 3",
   "language": "python",
   "name": "python3"
  },
  "language_info": {
   "codemirror_mode": {
    "name": "ipython",
    "version": 2
   },
   "file_extension": ".py",
   "mimetype": "text/x-python",
   "name": "python",
   "nbconvert_exporter": "python",
   "pygments_lexer": "ipython2",
   "version": "2.7.6"
  }
 },
 "nbformat": 4,
 "nbformat_minor": 5
}
