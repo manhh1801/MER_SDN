{
 "cells": [
  {
   "cell_type": "code",
   "execution_count": 1,
   "id": "initial_id",
   "metadata": {
    "collapsed": true,
    "ExecuteTime": {
     "end_time": "2024-01-28T10:34:37.422336900Z",
     "start_time": "2024-01-28T10:34:35.958856200Z"
    }
   },
   "outputs": [],
   "source": [
    "from csv import reader\n",
    "from numpy import array, vstack, float_, copy, abs, mean\n",
    "from os import listdir, path\n",
    "from re import match\n",
    "from math import inf, fabs, floor, pow\n",
    "from Network import NetworkGraph, NetworkFlow\n",
    "from PathAssigning import MEPT\n",
    "from sklearn.decomposition import PCA\n",
    "from sklearn.model_selection import KFold, train_test_split\n",
    "from sklearn.linear_model import LinearRegression"
   ]
  },
  {
   "cell_type": "code",
   "execution_count": 2,
   "outputs": [],
   "source": [
    "def extract_NetworkGraph(\n",
    "    param_File\n",
    "):\n",
    "    NetworkGraphFile = param_File\n",
    "    Graph = NetworkGraph()\n",
    "\n",
    "    Line = NetworkGraphFile.readline()\n",
    "    while Line:\n",
    "        if Line.startswith(\"NODES\"):\n",
    "            break\n",
    "        Line = NetworkGraphFile.readline()\n",
    "    Line = NetworkGraphFile.readline()\n",
    "    while False if match(r\"^\\)\\s+$\", Line) else True:\n",
    "        Node = Line.strip().split(' ')[0]\n",
    "        Graph.add_Node(Node)\n",
    "        Line = NetworkGraphFile.readline()\n",
    "\n",
    "    Line = NetworkGraphFile.readline()\n",
    "    while Line:\n",
    "        if Line.startswith(\"LINKS\"):\n",
    "            break\n",
    "        Line = NetworkGraphFile.readline()\n",
    "    Line = NetworkGraphFile.readline()\n",
    "    while False if match(r\"^\\)\\s+$\", Line) else True:\n",
    "        Splits = Line.strip().split(' ')\n",
    "        Node1, Node2 = Splits[2], Splits[3]\n",
    "        Bandwidth = float(Splits[5])\n",
    "        Graph.add_Link(Node1, Node2, Bandwidth)\n",
    "        Line = NetworkGraphFile.readline()\n",
    "\n",
    "    return Graph"
   ],
   "metadata": {
    "collapsed": false,
    "ExecuteTime": {
     "end_time": "2024-01-28T10:34:37.442894800Z",
     "start_time": "2024-01-28T10:34:37.434340400Z"
    }
   },
   "id": "2bcf77107e4d1b90"
  },
  {
   "cell_type": "code",
   "execution_count": 3,
   "outputs": [],
   "source": [
    "def get_FlowsList(\n",
    "    param_Nodes,\n",
    "    param_FlowTable\n",
    "):\n",
    "    Nodes = param_Nodes\n",
    "    DimensionSize = len(Nodes)\n",
    "    FlowTable = param_FlowTable\n",
    "    FlowsList = []\n",
    "    \n",
    "    for Record in FlowTable:\n",
    "        Record = Record.reshape(DimensionSize, DimensionSize)\n",
    "        Flows = []\n",
    "        for _index_Src in range(DimensionSize):\n",
    "            for _index_Dst in range(DimensionSize):\n",
    "                if _index_Src == _index_Dst:\n",
    "                    continue\n",
    "                SrcNode = Nodes[_index_Src]\n",
    "                DstNode = Nodes[_index_Dst]\n",
    "                FlowRate = Record[_index_Src][_index_Dst]\n",
    "                Flow = NetworkFlow(SrcNode, DstNode, FlowRate)\n",
    "                Flows.append(Flow)\n",
    "        FlowsList.append(Flows)\n",
    "        \n",
    "    return FlowsList"
   ],
   "metadata": {
    "collapsed": false,
    "ExecuteTime": {
     "end_time": "2024-01-28T10:34:37.479893700Z",
     "start_time": "2024-01-28T10:34:37.442894800Z"
    }
   },
   "id": "f547743a8cb423c5"
  },
  {
   "cell_type": "code",
   "execution_count": 4,
   "outputs": [],
   "source": [
    "def retrieve_DataInstance(\n",
    "    param_CSV\n",
    "):\n",
    "    CSVReader = reader(param_CSV, delimiter = ',')\n",
    "    Data = list(CSVReader)\n",
    "    \n",
    "    YInstance = array(Data.pop(0))\n",
    "    YInstance = YInstance.astype(float_)\n",
    "    XInstance = array(Data).reshape(-1)\n",
    "    XInstance = XInstance.astype(float_)\n",
    "    \n",
    "    return XInstance, YInstance"
   ],
   "metadata": {
    "collapsed": false,
    "ExecuteTime": {
     "end_time": "2024-01-28T10:34:37.481906300Z",
     "start_time": "2024-01-28T10:34:37.459895900Z"
    }
   },
   "id": "e44f6601401c8bbe"
  },
  {
   "cell_type": "code",
   "execution_count": 5,
   "outputs": [],
   "source": [
    "def calc_Accuracy(\n",
    "    param_ExpectedSet,\n",
    "    param_PredictedSet\n",
    "):\n",
    "    ExpectedSet, PredictedSet = param_ExpectedSet, param_PredictedSet\n",
    "\n",
    "    Accuracies = (100 * (1 - abs(ExpectedSet - PredictedSet) / ExpectedSet)).transpose()\n",
    "    UminAccuracy = mean(Accuracies[0])\n",
    "    UmaxAccuracy = mean(Accuracies[1])\n",
    "\n",
    "    return UminAccuracy, UmaxAccuracy"
   ],
   "metadata": {
    "collapsed": false,
    "ExecuteTime": {
     "end_time": "2024-01-28T10:34:37.511929Z",
     "start_time": "2024-01-28T10:34:37.479893700Z"
    }
   },
   "id": "475dd7861d8d051"
  },
  {
   "cell_type": "code",
   "execution_count": 6,
   "outputs": [],
   "source": [
    "def calc_EE(\n",
    "    param_NetworkGraph\n",
    "):\n",
    "    Graph = param_NetworkGraph\n",
    "    \n",
    "    Links = Graph.get_Links()\n",
    "    _numerator, _denominator = 0, len(Links)\n",
    "    for Link in Links.values():\n",
    "        State = Link[2]\n",
    "        if State is True:\n",
    "            _numerator += 1\n",
    "    EE = 1 - _numerator / _denominator\n",
    "    \n",
    "    return EE"
   ],
   "metadata": {
    "collapsed": false,
    "ExecuteTime": {
     "end_time": "2024-01-28T10:34:37.530902700Z",
     "start_time": "2024-01-28T10:34:37.496899900Z"
    }
   },
   "id": "b27bddaece8533ff"
  },
  {
   "cell_type": "code",
   "execution_count": 7,
   "outputs": [
    {
     "name": "stdout",
     "output_type": "stream",
     "text": [
      "Number of samples: 1000\n",
      "PCA to reduce from 36 features: 5 features\n",
      "UminAccuracy: 82.34%\n",
      "UmaxAccuracy: 91.67%\n",
      "Mean energy saving rate: 10.80%\n"
     ]
    }
   ],
   "source": [
    "# Graph initiating\n",
    "NetworkGraphFile = open(\"../public/data/raw_data/network-graph.txt\", 'r')\n",
    "Graph = extract_NetworkGraph(NetworkGraphFile)\n",
    "Nodes = Graph.get_Nodes()\n",
    "\n",
    "# Data retrieving\n",
    "X = []\n",
    "Y = []\n",
    "for DataFile in listdir(\"../public/data/processed_data\"):\n",
    "    CSVFile = open(path.join(\"../public/data/processed_data\", DataFile), 'r')\n",
    "    XInstance, YInstance = retrieve_DataInstance(CSVFile)\n",
    "    CSVFile.close()\n",
    "    X.append(XInstance)   \n",
    "    Y.append(YInstance)\n",
    "X = vstack(X)\n",
    "Y = vstack(Y)\n",
    "\n",
    "#Sampling\n",
    "XTrainValidate, XTest, YTrainValidate, YTest = train_test_split(X, Y, test_size = 0.2)\n",
    "FlowsTest = get_FlowsList(Nodes, XTest)\n",
    "    \n",
    "# 10-Fold PCA cross-validating\n",
    "Size = int(pow(len(Nodes), 2))\n",
    "_size = Size\n",
    "Difference = inf\n",
    "ReducedSizeSet = [*range(1, 36)]\n",
    "for _Size in ReducedSizeSet: \n",
    "    _XTrainValidate = copy(XTrainValidate)\n",
    "    PCATransformer = PCA(n_components = _Size)\n",
    "    PCATransformer.fit(_XTrainValidate)\n",
    "    _XTrainValidate = PCATransformer.transform(_XTrainValidate)\n",
    "    KFoldSampler = KFold(n_splits = 10, shuffle = True, random_state = 1801)\n",
    "    Accuracies = []\n",
    "    for _index_Train, _index_Validate in KFoldSampler.split(_XTrainValidate, YTrainValidate):\n",
    "        XTrain = _XTrainValidate[_index_Train]\n",
    "        YTrain = YTrainValidate[_index_Train]\n",
    "        XValidate = _XTrainValidate[_index_Validate]\n",
    "        YValidate = YTrainValidate[_index_Validate]\n",
    "        Model = LinearRegression()\n",
    "        Model.fit(XTrain, YTrain)\n",
    "        YPredict = Model.predict(XValidate)\n",
    "        UminAccuracy, UmaxAccuracy = calc_Accuracy(YValidate, YPredict)\n",
    "        Accuracy = (UminAccuracy + UmaxAccuracy) / 2\n",
    "        Accuracies.append(Accuracy)\n",
    "    MeanAccuracy = sum(Accuracies) / len(Accuracies)\n",
    "    ReductionRate = 100 * (1 - _Size / _size)\n",
    "    _Difference = fabs(MeanAccuracy - ReductionRate)\n",
    "    if _Difference <= Difference:\n",
    "        Size = _Size\n",
    "        Difference = _Difference\n",
    "Size = floor(Size * 1.05)\n",
    "\n",
    "# Linear Regression\n",
    "PCATransformer = PCA(n_components = Size)\n",
    "PCATransformer.fit(XTrainValidate)\n",
    "XTrainValidate = PCATransformer.transform(XTrainValidate)\n",
    "PCATransformer = PCA(n_components = Size)\n",
    "PCATransformer.fit(XTest)\n",
    "XTest = PCATransformer.transform(XTest)\n",
    "Model = LinearRegression()\n",
    "Model.fit(XTrainValidate, YTrainValidate)\n",
    "YPredict = Model.predict(XTest)\n",
    "\n",
    "# Evaluating\n",
    "UminAccuracy, UmaxAccuracy = calc_Accuracy(YTest, YPredict)\n",
    "EEs = []\n",
    "for _index in range(200):\n",
    "    Flows = FlowsTest[_index]\n",
    "    Umin, Umax = YPredict[_index][0], YPredict[_index][1]\n",
    "    Graph.reset_Network()\n",
    "    MEPT(Graph, Flows, Umin, Umax)\n",
    "    EE = calc_EE(Graph)\n",
    "    EEs.append(EE)\n",
    "MeanEE = sum(EEs) / len(EEs) * 100\n",
    "\n",
    "# Result displaying\n",
    "print(\"Number of samples: 1000\")\n",
    "print(f\"PCA to reduce from 36 features: {Size} features\")\n",
    "print(f\"UminAccuracy: {'{:.2f}'.format(round(UminAccuracy, 2))}%\")\n",
    "print(f\"UmaxAccuracy: {'{:.2f}'.format(round(UmaxAccuracy, 2))}%\")\n",
    "print(f\"Mean energy saving rate: {'{:.2f}'.format(round(MeanEE, 2))}%\")"
   ],
   "metadata": {
    "collapsed": false,
    "ExecuteTime": {
     "end_time": "2024-01-28T10:34:41.562417800Z",
     "start_time": "2024-01-28T10:34:37.539904Z"
    }
   },
   "id": "258bed88eeb12c66"
  }
 ],
 "metadata": {
  "kernelspec": {
   "display_name": "Python 3",
   "language": "python",
   "name": "python3"
  },
  "language_info": {
   "codemirror_mode": {
    "name": "ipython",
    "version": 2
   },
   "file_extension": ".py",
   "mimetype": "text/x-python",
   "name": "python",
   "nbconvert_exporter": "python",
   "pygments_lexer": "ipython2",
   "version": "2.7.6"
  }
 },
 "nbformat": 4,
 "nbformat_minor": 5
}
