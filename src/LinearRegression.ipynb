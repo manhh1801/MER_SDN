{
 "cells": [
  {
   "cell_type": "code",
   "execution_count": null,
   "id": "initial_id",
   "metadata": {
    "collapsed": true
   },
   "outputs": [],
   "source": [
    "from csv import reader\n",
    "from numpy import array, vstack, size, float_, copy\n",
    "from os import listdir, path\n",
    "from sklearn.decomposition import PCA\n",
    "from sklearn.model_selection import KFold, train_test_split\n",
    "from sklearn.linear_model import LinearRegression\n",
    "from sklearn.metrics import mean_squared_error"
   ]
  },
  {
   "cell_type": "code",
   "execution_count": null,
   "outputs": [],
   "source": [
    "def retrieve_DataInstance(\n",
    "    param_CSV\n",
    "):\n",
    "    CSVReader = reader(param_CSV, delimiter = ',')\n",
    "    Data = list(CSVReader)\n",
    "    YInstance = array(Data.pop(0))\n",
    "    YInstance = YInstance.astype(float_)\n",
    "    XInstance = array(Data).reshape(-1)\n",
    "    XInstance = XInstance.astype(float_)\n",
    "    \n",
    "    return XInstance, YInstance"
   ],
   "metadata": {
    "collapsed": false
   },
   "id": "e44f6601401c8bbe"
  },
  {
   "cell_type": "code",
   "execution_count": null,
   "outputs": [],
   "source": [
    "X = []\n",
    "Y = []\n",
    "_index = 1\n",
    "for DataFile in listdir(\"../public/data/processed_data\"):\n",
    "    CSVFile = open(path.join(\"../public/data/processed_data\", DataFile), 'r')\n",
    "    XInstance, YInstance = retrieve_DataInstance(CSVFile)\n",
    "    CSVFile.close()\n",
    "    X.append(XInstance)       \n",
    "    Y.append(YInstance)\n",
    "    # if _index == 100:\n",
    "    #     break\n",
    "    _index += 1\n",
    "X = vstack(X)\n",
    "Y = vstack(Y)\n",
    "    \n",
    "XTrainValidate, XTest, YTrainValidate, YTest = train_test_split(X, Y, test_size = 0.2)\n",
    "    \n",
    "# 10-Fold PCA cross-validating\n",
    "Size = 0\n",
    "ReducedSizeSet = [*range(1, int(0.8*_index))]\n",
    "MeanAccuracy = 0\n",
    "for ReducedSize in ReducedSizeSet: \n",
    "    _XTrainValidate = copy(XTrainValidate)\n",
    "    PCATransformer = PCA(n_components = ReducedSize)\n",
    "    PCATransformer.fit(_XTrainValidate)\n",
    "    _XTrainValidate = PCATransformer.transform(_XTrainValidate)\n",
    "    Accuracies = []\n",
    "    KFoldSampler = KFold(n_splits = 10, shuffle = True, random_state = 1801)\n",
    "    for _index_Train, _index_Validate in KFoldSampler.split(_XTrainValidate, YTrainValidate):\n",
    "        XTrain = XTrainValidate[_index_Train]\n",
    "        YTrain = YTrainValidate[_index_Train]\n",
    "        XValidate = XTrainValidate[_index_Validate]\n",
    "        YValidate = YTrainValidate[_index_Validate]\n",
    "        Model = LinearRegression()\n",
    "        Model.fit(XTrain, YTrain)\n",
    "        YPredict = Model.predict(XValidate)\n",
    "        Accuracy = mean_squared_error(YValidate, YPredict)\n",
    "        Accuracies.append(Accuracy)\n",
    "    _MeanAccuracy = sum(Accuracies) / len(Accuracies)\n",
    "    print(f\"{MeanAccuracy} - {ReducedSize}\")\n",
    "    if(_MeanAccuracy > MeanAccuracy):\n",
    "        Size = ReducedSize\n",
    "        MeanAccuracy = _MeanAccuracy\n",
    "\n",
    "# Linear Regression\n",
    "PCATransformer = PCA(n_components = Size)\n",
    "PCATransformer.fit(XTrainValidate)\n",
    "XTrainValidate = PCATransformer.transform(XTrainValidate)\n",
    "Model = LinearRegression()\n",
    "Model.fit(XTrainValidate, YTrainValidate)\n",
    "YPredict = Model.predict(XTest)"
   ],
   "metadata": {
    "collapsed": false
   },
   "id": "258bed88eeb12c66"
  }
 ],
 "metadata": {
  "kernelspec": {
   "display_name": "Python 3",
   "language": "python",
   "name": "python3"
  },
  "language_info": {
   "codemirror_mode": {
    "name": "ipython",
    "version": 2
   },
   "file_extension": ".py",
   "mimetype": "text/x-python",
   "name": "python",
   "nbconvert_exporter": "python",
   "pygments_lexer": "ipython2",
   "version": "2.7.6"
  }
 },
 "nbformat": 4,
 "nbformat_minor": 5
}
